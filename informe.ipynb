{
 "cells": [
  {
   "cell_type": "markdown",
   "id": "2e4569f5-cabe-423e-a164-826083dae018",
   "metadata": {},
   "source": [
    "# Proyecto 1 - Entrega 1\n",
    "### Laura Carretero - 202214922\n",
    "### Samuel Hernandez - 202213772\n",
    "### Juan Rios - 202215787"
   ]
  },
  {
   "cell_type": "markdown",
   "id": "53d6216c-6c2a-449c-a446-d60835cb632d",
   "metadata": {},
   "source": [
    "## Sección 1 - Entendimiento del negocio y enfoque analítico"
   ]
  },
  {
   "cell_type": "markdown",
   "id": "58734c22-0de9-4a65-826a-9555d43a29bf",
   "metadata": {},
   "source": [
    "|  |  |\n",
    "|-----------|-----------|\n",
    "Oportunidad/problema Negocio  | Res 1   | |\n",
    "Objetivos y criterios de éxito desde el punto de vista del negocio | Res 2   |\n",
    "| Organización y rol dentro de ella que se beneficia con la oportunidad definida  | Res 3   |\n",
    "| Impacto que puede tener en Colombia este proyecto | Res 4   |\n",
    "| Enfoque analítico. Descripción de la categoría de análisis (descriptivo, predictivo, etc.) , tipo y tarea de aprendizaje e incluya las técnicas y algoritmos que propone utilizar | Res 5   |  |\n"
   ]
  },
  {
   "cell_type": "markdown",
   "id": "2e3d27f2-8302-4fcf-bc4f-d96d9c04d5bd",
   "metadata": {},
   "source": [
    "## Sección 2 - Entendimiento y preparación de los datos"
   ]
  },
  {
   "cell_type": "code",
   "execution_count": 27,
   "id": "5099b525-42d2-466a-801f-749e99bd35b0",
   "metadata": {},
   "outputs": [
    {
     "name": "stdout",
     "output_type": "stream",
     "text": [
      "Requirement already satisfied: nltk in c:\\users\\57313\\appdata\\local\\programs\\python\\python38\\lib\\site-packages (3.9.1)Note: you may need to restart the kernel to use updated packages.\n",
      "\n",
      "Requirement already satisfied: click in c:\\users\\57313\\appdata\\local\\programs\\python\\python38\\lib\\site-packages (from nltk) (8.1.7)\n",
      "Requirement already satisfied: joblib in c:\\users\\57313\\appdata\\local\\programs\\python\\python38\\lib\\site-packages (from nltk) (1.4.2)\n",
      "Requirement already satisfied: regex>=2021.8.3 in c:\\users\\57313\\appdata\\local\\programs\\python\\python38\\lib\\site-packages (from nltk) (2024.7.24)\n",
      "Requirement already satisfied: tqdm in c:\\users\\57313\\appdata\\local\\programs\\python\\python38\\lib\\site-packages (from nltk) (4.66.5)\n",
      "Requirement already satisfied: colorama in c:\\users\\57313\\appdata\\local\\programs\\python\\python38\\lib\\site-packages (from click->nltk) (0.4.6)\n"
     ]
    }
   ],
   "source": [
    "# Librerias\n",
    "import pandas as pd\n",
    "import numpy as np\n",
    "import matplotlib.pyplot as plt\n",
    "import seaborn as sns\n",
    "from sklearn.metrics import mean_absolute_error, mean_squared_error\n",
    "from sklearn.model_selection import train_test_split\n",
    "from sklearn.metrics import confusion_matrix, classification_report, precision_score, recall_score, f1_score, accuracy_score\n",
    "from sklearn.metrics import ConfusionMatrixDisplay\n",
    "%pip install nltk\n",
    "import nltk\n",
    "from nltk.corpus import stopwords\n",
    "import string\n",
    "import re\n",
    "from sklearn.feature_extraction.text import TfidfVectorizer\n",
    "from sklearn.tree import DecisionTreeClassifier\n",
    "from sklearn.model_selection import GridSearchCV\n",
    "from sklearn.model_selection import KFold \n"
   ]
  },
  {
   "cell_type": "code",
   "execution_count": 28,
   "id": "64d4fa3a-a85b-4af8-8ed7-41375a093c49",
   "metadata": {},
   "outputs": [],
   "source": [
    "# Leer el excel con los registros\n",
    "r_ods = pd.read_excel('./data/ODScat_345.xlsx')"
   ]
  },
  {
   "cell_type": "markdown",
   "id": "7933d677-de46-4a9f-beba-d39e4fe8d8b7",
   "metadata": {},
   "source": [
    "### 2.1 Perfilamiento de datos"
   ]
  },
  {
   "cell_type": "code",
   "execution_count": 29,
   "id": "ffd1a3d4-2385-446b-80c3-1d8978d22403",
   "metadata": {},
   "outputs": [
    {
     "data": {
      "text/plain": [
       "Textos_espanol    object\n",
       "sdg                int64\n",
       "dtype: object"
      ]
     },
     "execution_count": 29,
     "metadata": {},
     "output_type": "execute_result"
    }
   ],
   "source": [
    "r_ods.dtypes"
   ]
  },
  {
   "cell_type": "code",
   "execution_count": 30,
   "id": "32339fc9-037c-4f45-9314-6eae26c1a7fc",
   "metadata": {},
   "outputs": [
    {
     "data": {
      "text/html": [
       "<div>\n",
       "<style scoped>\n",
       "    .dataframe tbody tr th:only-of-type {\n",
       "        vertical-align: middle;\n",
       "    }\n",
       "\n",
       "    .dataframe tbody tr th {\n",
       "        vertical-align: top;\n",
       "    }\n",
       "\n",
       "    .dataframe thead th {\n",
       "        text-align: right;\n",
       "    }\n",
       "</style>\n",
       "<table border=\"1\" class=\"dataframe\">\n",
       "  <thead>\n",
       "    <tr style=\"text-align: right;\">\n",
       "      <th></th>\n",
       "      <th>Textos_espanol</th>\n",
       "      <th>sdg</th>\n",
       "    </tr>\n",
       "  </thead>\n",
       "  <tbody>\n",
       "    <tr>\n",
       "      <th>1011</th>\n",
       "      <td>Estas carencias son especialmente pronunciadas...</td>\n",
       "      <td>4</td>\n",
       "    </tr>\n",
       "    <tr>\n",
       "      <th>2584</th>\n",
       "      <td>Esto puede ser el resultado de diferentes pref...</td>\n",
       "      <td>5</td>\n",
       "    </tr>\n",
       "    <tr>\n",
       "      <th>3719</th>\n",
       "      <td>Estos deducibles se describen en las siguiente...</td>\n",
       "      <td>3</td>\n",
       "    </tr>\n",
       "    <tr>\n",
       "      <th>896</th>\n",
       "      <td>El VHI privado ha ido creciendo a lo largo de ...</td>\n",
       "      <td>3</td>\n",
       "    </tr>\n",
       "    <tr>\n",
       "      <th>869</th>\n",
       "      <td>En Colombia, el Plan Obligatorio de Salud Subs...</td>\n",
       "      <td>3</td>\n",
       "    </tr>\n",
       "  </tbody>\n",
       "</table>\n",
       "</div>"
      ],
      "text/plain": [
       "                                         Textos_espanol  sdg\n",
       "1011  Estas carencias son especialmente pronunciadas...    4\n",
       "2584  Esto puede ser el resultado de diferentes pref...    5\n",
       "3719  Estos deducibles se describen en las siguiente...    3\n",
       "896   El VHI privado ha ido creciendo a lo largo de ...    3\n",
       "869   En Colombia, el Plan Obligatorio de Salud Subs...    3"
      ]
     },
     "execution_count": 30,
     "metadata": {},
     "output_type": "execute_result"
    }
   ],
   "source": [
    "r_ods.sample(5)"
   ]
  },
  {
   "cell_type": "markdown",
   "id": "3702ca73-70a3-4be3-aad0-c855d438fdf2",
   "metadata": {},
   "source": [
    "Tenemos dos columnas. En Textos_espanol tenemos la opinion de un ciudadano. En sdg tenemos el ODS al cual se asocia ese texto, esta es una varible categorica"
   ]
  },
  {
   "cell_type": "code",
   "execution_count": 31,
   "id": "de4b7a9b-147a-454c-b4e2-04b34aebbc9e",
   "metadata": {},
   "outputs": [
    {
     "data": {
      "text/plain": [
       "(4049, 2)"
      ]
     },
     "execution_count": 31,
     "metadata": {},
     "output_type": "execute_result"
    }
   ],
   "source": [
    "r_ods.shape"
   ]
  },
  {
   "cell_type": "markdown",
   "id": "4b8adaf4-4936-4cc0-b41b-e3e94aa99b58",
   "metadata": {},
   "source": [
    "Tenemos 4049 registros"
   ]
  },
  {
   "cell_type": "code",
   "execution_count": 32,
   "id": "dc06175f-f8ea-44ec-9eb6-30081237b992",
   "metadata": {},
   "outputs": [
    {
     "data": {
      "text/html": [
       "<div>\n",
       "<style scoped>\n",
       "    .dataframe tbody tr th:only-of-type {\n",
       "        vertical-align: middle;\n",
       "    }\n",
       "\n",
       "    .dataframe tbody tr th {\n",
       "        vertical-align: top;\n",
       "    }\n",
       "\n",
       "    .dataframe thead th {\n",
       "        text-align: right;\n",
       "    }\n",
       "</style>\n",
       "<table border=\"1\" class=\"dataframe\">\n",
       "  <thead>\n",
       "    <tr style=\"text-align: right;\">\n",
       "      <th></th>\n",
       "      <th>sdg</th>\n",
       "    </tr>\n",
       "  </thead>\n",
       "  <tbody>\n",
       "    <tr>\n",
       "      <th>count</th>\n",
       "      <td>4049.000000</td>\n",
       "    </tr>\n",
       "    <tr>\n",
       "      <th>mean</th>\n",
       "      <td>4.051124</td>\n",
       "    </tr>\n",
       "    <tr>\n",
       "      <th>std</th>\n",
       "      <td>0.814338</td>\n",
       "    </tr>\n",
       "    <tr>\n",
       "      <th>min</th>\n",
       "      <td>3.000000</td>\n",
       "    </tr>\n",
       "    <tr>\n",
       "      <th>25%</th>\n",
       "      <td>3.000000</td>\n",
       "    </tr>\n",
       "    <tr>\n",
       "      <th>50%</th>\n",
       "      <td>4.000000</td>\n",
       "    </tr>\n",
       "    <tr>\n",
       "      <th>75%</th>\n",
       "      <td>5.000000</td>\n",
       "    </tr>\n",
       "    <tr>\n",
       "      <th>max</th>\n",
       "      <td>5.000000</td>\n",
       "    </tr>\n",
       "  </tbody>\n",
       "</table>\n",
       "</div>"
      ],
      "text/plain": [
       "               sdg\n",
       "count  4049.000000\n",
       "mean      4.051124\n",
       "std       0.814338\n",
       "min       3.000000\n",
       "25%       3.000000\n",
       "50%       4.000000\n",
       "75%       5.000000\n",
       "max       5.000000"
      ]
     },
     "execution_count": 32,
     "metadata": {},
     "output_type": "execute_result"
    }
   ],
   "source": [
    "r_ods.describe()"
   ]
  },
  {
   "cell_type": "code",
   "execution_count": 33,
   "id": "ea9058a4-4bb4-48f5-a151-dc4e2ff4aa0f",
   "metadata": {},
   "outputs": [
    {
     "data": {
      "text/plain": [
       "sdg\n",
       "5    1451\n",
       "4    1354\n",
       "3    1244\n",
       "Name: count, dtype: int64"
      ]
     },
     "execution_count": 33,
     "metadata": {},
     "output_type": "execute_result"
    }
   ],
   "source": [
    "r_ods['sdg'].value_counts()"
   ]
  },
  {
   "cell_type": "markdown",
   "id": "feaa2865-bbff-4364-85c1-1532f9fad1b4",
   "metadata": {},
   "source": [
    "Puede estar asociado a los ODS 3, 4 o 5, que corresponden a: Salud y bienestar, educacion de calidad e igualdad de género, respectivamente.\n",
    "La mayor cantidad de registros los tiene el ODS 5, sin embargo, los tres tienen una participacion aproximada al 33%"
   ]
  },
  {
   "cell_type": "markdown",
   "id": "432853b0-ebb1-441d-90ed-ecf5ce92b371",
   "metadata": {},
   "source": [
    "#### 2.1.1 Longitudes"
   ]
  },
  {
   "cell_type": "markdown",
   "id": "3f24ec40-235f-4a52-b109-bdcc452a0777",
   "metadata": {},
   "source": [
    "Se revisaran las longitudes de los textos"
   ]
  },
  {
   "cell_type": "code",
   "execution_count": 34,
   "id": "e057bf51-735a-4398-800c-d8086064ab05",
   "metadata": {},
   "outputs": [],
   "source": [
    "longitudes = r_ods['Textos_espanol'].apply(len)"
   ]
  },
  {
   "cell_type": "code",
   "execution_count": 35,
   "id": "120e18df-7878-4af9-92df-cecfb98de8cc",
   "metadata": {},
   "outputs": [
    {
     "data": {
      "image/png": "[encoded data removed]",
      "text/plain": [
       "<Figure size 1500x1000 with 1 Axes>"
      ]
     },
     "metadata": {},
     "output_type": "display_data"
    }
   ],
   "source": [
    "plt.figure(figsize=(15,10))\n",
    "sns.boxplot(data=longitudes)\n",
    "plt.title('Boxplots para longitudes')\n",
    "plt.show()"
   ]
  },
  {
   "cell_type": "markdown",
   "id": "ebd4f36e-8f0d-473e-81eb-b71322956a38",
   "metadata": {},
   "source": [
    "Hay longitudes atipicas "
   ]
  },
  {
   "cell_type": "code",
   "execution_count": 36,
   "id": "1a31c487-b0c3-4554-9897-265db602d36d",
   "metadata": {},
   "outputs": [
    {
     "data": {
      "text/plain": [
       "count    4049.000000\n",
       "mean      699.632502\n",
       "std       228.988965\n",
       "min       294.000000\n",
       "25%       531.000000\n",
       "50%       657.000000\n",
       "75%       827.000000\n",
       "max      1513.000000\n",
       "Name: Textos_espanol, dtype: float64"
      ]
     },
     "execution_count": 36,
     "metadata": {},
     "output_type": "execute_result"
    }
   ],
   "source": [
    "longitudes.describe()"
   ]
  },
  {
   "cell_type": "markdown",
   "id": "1d812137-4c51-4301-b197-edad2243221f",
   "metadata": {},
   "source": [
    "La longitud mas corta es de 294 caracteres. La mas larga es de 1513. El promedio es de 700 caracteres"
   ]
  },
  {
   "cell_type": "code",
   "execution_count": 37,
   "id": "56ac57e9-a650-4da5-9dc9-cadaafa261ca",
   "metadata": {},
   "outputs": [
    {
     "data": {
      "image/png": "[encoded data removed]",
      "text/plain": [
       "<Figure size 640x480 with 2 Axes>"
      ]
     },
     "metadata": {},
     "output_type": "display_data"
    }
   ],
   "source": [
    "box_p = pd.DataFrame({'longitudes': longitudes, 'sdg': r_ods['sdg']}).corr()\n",
    "sns.heatmap(box_p, cmap=\"Blues\", annot=True)\n",
    "plt.show()"
   ]
  },
  {
   "cell_type": "markdown",
   "id": "b81c81d5-0385-458d-aea9-1a77bb5fe5c0",
   "metadata": {},
   "source": [
    "Como se observa, la clasificacion del sdg y la longitus no tienen correlacion"
   ]
  },
  {
   "cell_type": "markdown",
   "id": "72d8e4c6-1b01-40ff-be88-26864c9199c0",
   "metadata": {},
   "source": [
    "### 2.2 Calidad de datos"
   ]
  },
  {
   "cell_type": "markdown",
   "id": "6bfd0532-c2a1-4d62-9143-0c996d2482b7",
   "metadata": {},
   "source": [
    "#### 2.2.1 Completitud"
   ]
  },
  {
   "cell_type": "code",
   "execution_count": 38,
   "id": "3538b95b-c31b-4071-940f-903c0156ac12",
   "metadata": {},
   "outputs": [
    {
     "data": {
      "text/plain": [
       "Textos_espanol    100.0\n",
       "sdg               100.0\n",
       "dtype: float64"
      ]
     },
     "execution_count": 38,
     "metadata": {},
     "output_type": "execute_result"
    }
   ],
   "source": [
    "r_ods.notnull().mean()*100"
   ]
  },
  {
   "cell_type": "markdown",
   "id": "50989afc-afc6-4fea-9dc5-e5b905048abb",
   "metadata": {},
   "source": [
    "Las dos columnas estan completas"
   ]
  },
  {
   "cell_type": "markdown",
   "id": "27796470-4005-455d-bae2-de3ce5ade49a",
   "metadata": {},
   "source": [
    "#### 2.2.2 Unicidad"
   ]
  },
  {
   "cell_type": "code",
   "execution_count": 39,
   "id": "5d5d7549-956b-4380-ab29-9c9a8b81443e",
   "metadata": {},
   "outputs": [
    {
     "data": {
      "text/plain": [
       "0"
      ]
     },
     "execution_count": 39,
     "metadata": {},
     "output_type": "execute_result"
    }
   ],
   "source": [
    "r_ods.duplicated(keep = False).sum()"
   ]
  },
  {
   "cell_type": "markdown",
   "id": "9af909d7-dac8-49eb-9458-b7c7505e5263",
   "metadata": {},
   "source": [
    "No hay registros repetidos"
   ]
  },
  {
   "cell_type": "markdown",
   "id": "4bdb59b7-900e-4b1f-bca1-3cf71223f069",
   "metadata": {},
   "source": [
    "#### 2.2.3 Consistencia"
   ]
  },
  {
   "cell_type": "code",
   "execution_count": 40,
   "id": "0297e5fb-bc0f-42bf-82af-7a83eac21b59",
   "metadata": {},
   "outputs": [
    {
     "data": {
      "text/plain": [
       "Textos_espanol    object\n",
       "sdg                int64\n",
       "dtype: object"
      ]
     },
     "execution_count": 40,
     "metadata": {},
     "output_type": "execute_result"
    }
   ],
   "source": [
    "r_ods.dtypes"
   ]
  },
  {
   "cell_type": "markdown",
   "id": "6f790764-995c-48c6-a0a8-6cf7d0b9fb0a",
   "metadata": {},
   "source": [
    "El texto es un string, y el ODS es numerico. Es consistente"
   ]
  },
  {
   "cell_type": "markdown",
   "id": "fb302b1f-d88e-4682-89ca-678502585ae1",
   "metadata": {},
   "source": [
    "#### 2.2.4 Validez"
   ]
  },
  {
   "cell_type": "markdown",
   "id": "6c1d059e-8fa9-458f-8063-3ec2b2ecba1d",
   "metadata": {},
   "source": [
    "Anteriormente se vio que sgd solo toma valores entre 3 y 5, lo cual es valido en el contexto que se trabaja"
   ]
  },
  {
   "cell_type": "markdown",
   "id": "23129fdb-1f77-4fe1-9b0c-678467bf90c5",
   "metadata": {},
   "source": [
    "### 2.3 Preparación de datos"
   ]
  },
  {
   "cell_type": "code",
   "execution_count": 41,
   "id": "b0f3dbbb-4ba4-423a-9179-ceedd1927ec4",
   "metadata": {},
   "outputs": [],
   "source": [
    "registros = r_ods.copy()"
   ]
  },
  {
   "cell_type": "markdown",
   "id": "e76cd23e-03e3-4af6-9f7b-68e53aa8e5fc",
   "metadata": {},
   "source": [
    "Se usara una funcion auxiliar para hacer la preparacion. Se va a pasar a minuscula el texto, y se eliminaran las palabras comunes del idioma español.\n",
    "No se detectaron problemas en la calidad de los datos. Estan completos, son unicos, son consistentes y válidos"
   ]
  },
  {
   "cell_type": "code",
   "execution_count": 42,
   "id": "88d16606-5f80-43ad-b0da-1cc75a79201e",
   "metadata": {},
   "outputs": [
    {
     "name": "stderr",
     "output_type": "stream",
     "text": [
      "[nltk_data] Downloading package stopwords to\n",
      "[nltk_data]     C:\\Users\\57313\\AppData\\Roaming\\nltk_data...\n",
      "[nltk_data]   Package stopwords is already up-to-date!\n"
     ]
    },
    {
     "data": {
      "text/html": [
       "<div>\n",
       "<style scoped>\n",
       "    .dataframe tbody tr th:only-of-type {\n",
       "        vertical-align: middle;\n",
       "    }\n",
       "\n",
       "    .dataframe tbody tr th {\n",
       "        vertical-align: top;\n",
       "    }\n",
       "\n",
       "    .dataframe thead th {\n",
       "        text-align: right;\n",
       "    }\n",
       "</style>\n",
       "<table border=\"1\" class=\"dataframe\">\n",
       "  <thead>\n",
       "    <tr style=\"text-align: right;\">\n",
       "      <th></th>\n",
       "      <th>Textos_espanol</th>\n",
       "      <th>Textos_espanol_limpio</th>\n",
       "    </tr>\n",
       "  </thead>\n",
       "  <tbody>\n",
       "    <tr>\n",
       "      <th>0</th>\n",
       "      <td>Por ejemplo, el nÃºmero de consultas externas ...</td>\n",
       "      <td>ejemplo nãºmero consultas externas especialist...</td>\n",
       "    </tr>\n",
       "    <tr>\n",
       "      <th>1</th>\n",
       "      <td>En 2007, el gobierno central financió directam...</td>\n",
       "      <td>2007 gobierno central financió directamente so...</td>\n",
       "    </tr>\n",
       "    <tr>\n",
       "      <th>2</th>\n",
       "      <td>Claramente, hay muchos otros factores en juego...</td>\n",
       "      <td>claramente factores juego particular variedad ...</td>\n",
       "    </tr>\n",
       "    <tr>\n",
       "      <th>3</th>\n",
       "      <td>Por ejemplo, el estado australiano de Victoria...</td>\n",
       "      <td>ejemplo australiano victoria creó agencia prom...</td>\n",
       "    </tr>\n",
       "    <tr>\n",
       "      <th>4</th>\n",
       "      <td>El consumo anual de alcohol se estima en 15,7 ...</td>\n",
       "      <td>consumo anual alcohol estima 157 litros año ho...</td>\n",
       "    </tr>\n",
       "  </tbody>\n",
       "</table>\n",
       "</div>"
      ],
      "text/plain": [
       "                                      Textos_espanol  \\\n",
       "0  Por ejemplo, el nÃºmero de consultas externas ...   \n",
       "1  En 2007, el gobierno central financió directam...   \n",
       "2  Claramente, hay muchos otros factores en juego...   \n",
       "3  Por ejemplo, el estado australiano de Victoria...   \n",
       "4  El consumo anual de alcohol se estima en 15,7 ...   \n",
       "\n",
       "                               Textos_espanol_limpio  \n",
       "0  ejemplo nãºmero consultas externas especialist...  \n",
       "1  2007 gobierno central financió directamente so...  \n",
       "2  claramente factores juego particular variedad ...  \n",
       "3  ejemplo australiano victoria creó agencia prom...  \n",
       "4  consumo anual alcohol estima 157 litros año ho...  "
      ]
     },
     "execution_count": 42,
     "metadata": {},
     "output_type": "execute_result"
    }
   ],
   "source": [
    "nltk.download('stopwords')\n",
    "\n",
    "comunes = set(stopwords.words('spanish'))\n",
    "\n",
    "def limpiar_texto(texto):\n",
    "    texto = texto.lower()\n",
    "    texto = re.sub(f'[{string.punctuation}]', '', texto)\n",
    "    palabras = texto.split()\n",
    "    palabras_limpias = [palabra for palabra in palabras if palabra not in comunes]\n",
    "    return ' '.join(palabras_limpias)\n",
    "\n",
    "registros['Textos_espanol_limpio'] = registros['Textos_espanol'].apply(limpiar_texto)\n",
    "registros[['Textos_espanol', 'Textos_espanol_limpio']].head()"
   ]
  },
  {
   "cell_type": "markdown",
   "id": "84b5209f-ae18-466a-b4b6-0c85b4f37463",
   "metadata": {},
   "source": [
    "## Sección 3 - Modelado y evaluación"
   ]
  },
  {
   "cell_type": "code",
   "execution_count": 43,
   "id": "7731f8f5",
   "metadata": {},
   "outputs": [],
   "source": [
    "vectorizer = TfidfVectorizer()\n",
    "X = vectorizer.fit_transform(registros['Textos_espanol_limpio'])"
   ]
  },
  {
   "cell_type": "code",
   "execution_count": 44,
   "id": "1958f482",
   "metadata": {},
   "outputs": [],
   "source": [
    "Y = registros['sdg']"
   ]
  },
  {
   "cell_type": "code",
   "execution_count": 45,
   "id": "070c361a",
   "metadata": {},
   "outputs": [],
   "source": [
    "X_train, X_test, Y_train, Y_test = train_test_split(X, Y, test_size=0.2, random_state=0)"
   ]
  },
  {
   "cell_type": "markdown",
   "id": "3cee91de-623c-436f-b20e-f76625180340",
   "metadata": {},
   "source": [
    "### Modelo 1: Decision Tree Classifier"
   ]
  },
  {
   "cell_type": "code",
   "execution_count": 46,
   "id": "f8c53380-ef5b-4ba8-98a6-6dffc226eb79",
   "metadata": {},
   "outputs": [],
   "source": [
    "particiones = KFold(n_splits=10, shuffle=True, random_state = 0)\n",
    "param_grid = {'criterion':['gini', 'entropy'],'max_depth':[4,6,8,10,20]}\n",
    "arbol = DecisionTreeClassifier(random_state=0)"
   ]
  },
  {
   "cell_type": "code",
   "execution_count": 47,
   "id": "e2d95fcd",
   "metadata": {},
   "outputs": [
    {
     "data": {
      "text/html": [
       "<style>#sk-container-id-2 {color: black;}#sk-container-id-2 pre{padding: 0;}#sk-container-id-2 div.sk-toggleable {background-color: white;}#sk-container-id-2 label.sk-toggleable__label {cursor: pointer;display: block;width: 100%;margin-bottom: 0;padding: 0.3em;box-sizing: border-box;text-align: center;}#sk-container-id-2 label.sk-toggleable__label-arrow:before {content: \"▸\";float: left;margin-right: 0.25em;color: #696969;}#sk-container-id-2 label.sk-toggleable__label-arrow:hover:before {color: black;}#sk-container-id-2 div.sk-estimator:hover label.sk-toggleable__label-arrow:before {color: black;}#sk-container-id-2 div.sk-toggleable__content {max-height: 0;max-width: 0;overflow: hidden;text-align: left;background-color: #f0f8ff;}#sk-container-id-2 div.sk-toggleable__content pre {margin: 0.2em;color: black;border-radius: 0.25em;background-color: #f0f8ff;}#sk-container-id-2 input.sk-toggleable__control:checked~div.sk-toggleable__content {max-height: 200px;max-width: 100%;overflow: auto;}#sk-container-id-2 input.sk-toggleable__control:checked~label.sk-toggleable__label-arrow:before {content: \"▾\";}#sk-container-id-2 div.sk-estimator input.sk-toggleable__control:checked~label.sk-toggleable__label {background-color: #d4ebff;}#sk-container-id-2 div.sk-label input.sk-toggleable__control:checked~label.sk-toggleable__label {background-color: #d4ebff;}#sk-container-id-2 input.sk-hidden--visually {border: 0;clip: rect(1px 1px 1px 1px);clip: rect(1px, 1px, 1px, 1px);height: 1px;margin: -1px;overflow: hidden;padding: 0;position: absolute;width: 1px;}#sk-container-id-2 div.sk-estimator {font-family: monospace;background-color: #f0f8ff;border: 1px dotted black;border-radius: 0.25em;box-sizing: border-box;margin-bottom: 0.5em;}#sk-container-id-2 div.sk-estimator:hover {background-color: #d4ebff;}#sk-container-id-2 div.sk-parallel-item::after {content: \"\";width: 100%;border-bottom: 1px solid gray;flex-grow: 1;}#sk-container-id-2 div.sk-label:hover label.sk-toggleable__label {background-color: #d4ebff;}#sk-container-id-2 div.sk-serial::before {content: \"\";position: absolute;border-left: 1px solid gray;box-sizing: border-box;top: 0;bottom: 0;left: 50%;z-index: 0;}#sk-container-id-2 div.sk-serial {display: flex;flex-direction: column;align-items: center;background-color: white;padding-right: 0.2em;padding-left: 0.2em;position: relative;}#sk-container-id-2 div.sk-item {position: relative;z-index: 1;}#sk-container-id-2 div.sk-parallel {display: flex;align-items: stretch;justify-content: center;background-color: white;position: relative;}#sk-container-id-2 div.sk-item::before, #sk-container-id-2 div.sk-parallel-item::before {content: \"\";position: absolute;border-left: 1px solid gray;box-sizing: border-box;top: 0;bottom: 0;left: 50%;z-index: -1;}#sk-container-id-2 div.sk-parallel-item {display: flex;flex-direction: column;z-index: 1;position: relative;background-color: white;}#sk-container-id-2 div.sk-parallel-item:first-child::after {align-self: flex-end;width: 50%;}#sk-container-id-2 div.sk-parallel-item:last-child::after {align-self: flex-start;width: 50%;}#sk-container-id-2 div.sk-parallel-item:only-child::after {width: 0;}#sk-container-id-2 div.sk-dashed-wrapped {border: 1px dashed gray;margin: 0 0.4em 0.5em 0.4em;box-sizing: border-box;padding-bottom: 0.4em;background-color: white;}#sk-container-id-2 div.sk-label label {font-family: monospace;font-weight: bold;display: inline-block;line-height: 1.2em;}#sk-container-id-2 div.sk-label-container {text-align: center;}#sk-container-id-2 div.sk-container {/* jupyter's `normalize.less` sets `[hidden] { display: none; }` but bootstrap.min.css set `[hidden] { display: none !important; }` so we also need the `!important` here to be able to override the default hidden behavior on the sphinx rendered scikit-learn.org. See: https://github.com/scikit-learn/scikit-learn/issues/21755 */display: inline-block !important;position: relative;}#sk-container-id-2 div.sk-text-repr-fallback {display: none;}</style><div id=\"sk-container-id-2\" class=\"sk-top-container\"><div class=\"sk-text-repr-fallback\"><pre>GridSearchCV(cv=KFold(n_splits=10, random_state=0, shuffle=True),\n",
       "             estimator=DecisionTreeClassifier(random_state=0),\n",
       "             param_grid={&#x27;criterion&#x27;: [&#x27;gini&#x27;, &#x27;entropy&#x27;],\n",
       "                         &#x27;max_depth&#x27;: [4, 6, 8, 10, 20]})</pre><b>In a Jupyter environment, please rerun this cell to show the HTML representation or trust the notebook. <br />On GitHub, the HTML representation is unable to render, please try loading this page with nbviewer.org.</b></div><div class=\"sk-container\" hidden><div class=\"sk-item sk-dashed-wrapped\"><div class=\"sk-label-container\"><div class=\"sk-label sk-toggleable\"><input class=\"sk-toggleable__control sk-hidden--visually\" id=\"sk-estimator-id-4\" type=\"checkbox\" ><label for=\"sk-estimator-id-4\" class=\"sk-toggleable__label sk-toggleable__label-arrow\">GridSearchCV</label><div class=\"sk-toggleable__content\"><pre>GridSearchCV(cv=KFold(n_splits=10, random_state=0, shuffle=True),\n",
       "             estimator=DecisionTreeClassifier(random_state=0),\n",
       "             param_grid={&#x27;criterion&#x27;: [&#x27;gini&#x27;, &#x27;entropy&#x27;],\n",
       "                         &#x27;max_depth&#x27;: [4, 6, 8, 10, 20]})</pre></div></div></div><div class=\"sk-parallel\"><div class=\"sk-parallel-item\"><div class=\"sk-item\"><div class=\"sk-label-container\"><div class=\"sk-label sk-toggleable\"><input class=\"sk-toggleable__control sk-hidden--visually\" id=\"sk-estimator-id-5\" type=\"checkbox\" ><label for=\"sk-estimator-id-5\" class=\"sk-toggleable__label sk-toggleable__label-arrow\">estimator: DecisionTreeClassifier</label><div class=\"sk-toggleable__content\"><pre>DecisionTreeClassifier(random_state=0)</pre></div></div></div><div class=\"sk-serial\"><div class=\"sk-item\"><div class=\"sk-estimator sk-toggleable\"><input class=\"sk-toggleable__control sk-hidden--visually\" id=\"sk-estimator-id-6\" type=\"checkbox\" ><label for=\"sk-estimator-id-6\" class=\"sk-toggleable__label sk-toggleable__label-arrow\">DecisionTreeClassifier</label><div class=\"sk-toggleable__content\"><pre>DecisionTreeClassifier(random_state=0)</pre></div></div></div></div></div></div></div></div></div></div>"
      ],
      "text/plain": [
       "GridSearchCV(cv=KFold(n_splits=10, random_state=0, shuffle=True),\n",
       "             estimator=DecisionTreeClassifier(random_state=0),\n",
       "             param_grid={'criterion': ['gini', 'entropy'],\n",
       "                         'max_depth': [4, 6, 8, 10, 20]})"
      ]
     },
     "execution_count": 47,
     "metadata": {},
     "output_type": "execute_result"
    }
   ],
   "source": [
    "mejor_modelo = GridSearchCV(arbol, param_grid, cv=particiones)\n",
    "# Ajuste del modelo\n",
    "mejor_modelo.fit(X_train, Y_train)"
   ]
  },
  {
   "cell_type": "code",
   "execution_count": 48,
   "id": "7d0e8d66",
   "metadata": {},
   "outputs": [
    {
     "data": {
      "text/plain": [
       "{'criterion': 'entropy', 'max_depth': 20}"
      ]
     },
     "execution_count": 48,
     "metadata": {},
     "output_type": "execute_result"
    }
   ],
   "source": [
    "mejor_modelo.best_params_"
   ]
  },
  {
   "cell_type": "code",
   "execution_count": 49,
   "id": "c2df00eb",
   "metadata": {},
   "outputs": [],
   "source": [
    "arbol = mejor_modelo.best_estimator_"
   ]
  },
  {
   "cell_type": "code",
   "execution_count": 50,
   "id": "51ac657d",
   "metadata": {},
   "outputs": [],
   "source": [
    "y_pred = arbol.predict(X_test)"
   ]
  },
  {
   "cell_type": "markdown",
   "id": "ec78ba50-137c-49cd-88f0-c5067b2a25f9",
   "metadata": {},
   "source": [
    "#### Métricas de evaluación"
   ]
  },
  {
   "cell_type": "code",
   "execution_count": 51,
   "id": "0212d466-b494-4e34-be9f-5adefb9e31a2",
   "metadata": {},
   "outputs": [
    {
     "data": {
      "image/png": "[encoded data removed]",
      "text/plain": [
       "<Figure size 640x480 with 2 Axes>"
      ]
     },
     "metadata": {},
     "output_type": "display_data"
    }
   ],
   "source": [
    "disp = ConfusionMatrixDisplay(confusion_matrix=confusion_matrix(Y_test, y_pred), display_labels=arbol.classes_)\n",
    "disp.plot(cmap=plt.cm.Blues)\n",
    "\n",
    "plt.show()"
   ]
  },
  {
   "cell_type": "code",
   "execution_count": 52,
   "id": "11a10b6b",
   "metadata": {},
   "outputs": [
    {
     "name": "stdout",
     "output_type": "stream",
     "text": [
      "Exactitud: 0.92\n",
      "Recall: 0.9246568093095191\n",
      "Precisión: 0.9261692269660399\n",
      "Puntuación F1: 0.9248594413216248\n"
     ]
    }
   ],
   "source": [
    "print('Exactitud: %.2f' % accuracy_score(Y_test, y_pred))\n",
    "print(\"Recall: {}\".format(recall_score(Y_test,y_pred,average='macro')))\n",
    "print(\"Precisión: {}\".format(precision_score(Y_test,y_pred,average='macro')))\n",
    "print(\"Puntuación F1: {}\".format(f1_score(Y_test,y_pred,average='macro')))"
   ]
  },
  {
   "cell_type": "code",
   "execution_count": 53,
   "id": "818eb3b3",
   "metadata": {},
   "outputs": [
    {
     "name": "stdout",
     "output_type": "stream",
     "text": [
      "              precision    recall  f1-score   support\n",
      "\n",
      "           3       0.89      0.95      0.92       269\n",
      "           4       0.96      0.91      0.93       266\n",
      "           5       0.93      0.92      0.92       275\n",
      "\n",
      "    accuracy                           0.92       810\n",
      "   macro avg       0.93      0.92      0.92       810\n",
      "weighted avg       0.93      0.92      0.92       810\n",
      "\n"
     ]
    }
   ],
   "source": [
    "print(classification_report(Y_test, y_pred))"
   ]
  },
  {
   "cell_type": "markdown",
   "id": "0b2ac696-3337-4ca0-be74-f6b114f5042a",
   "metadata": {},
   "source": [
    "### Modelo 2: Algoritmo"
   ]
  },
  {
   "cell_type": "code",
   "execution_count": null,
   "id": "919d7754-858d-4773-bc10-3c1925a6f357",
   "metadata": {},
   "outputs": [],
   "source": []
  },
  {
   "cell_type": "markdown",
   "id": "b7458b6d-3206-411a-a0e6-b0e10485031a",
   "metadata": {},
   "source": [
    "#### Métricas de evaluación"
   ]
  },
  {
   "cell_type": "code",
   "execution_count": null,
   "id": "4af4be8c-ea97-4a8c-9f74-d742f2a24678",
   "metadata": {},
   "outputs": [],
   "source": []
  },
  {
   "cell_type": "markdown",
   "id": "557f37ca-3f24-4cf1-94f6-fe5709ae66d2",
   "metadata": {},
   "source": [
    "### Modelo 3: Algoritmo"
   ]
  },
  {
   "cell_type": "code",
   "execution_count": null,
   "id": "a14538b1-334d-4bc5-8c97-8a1bbd987737",
   "metadata": {},
   "outputs": [],
   "source": []
  },
  {
   "cell_type": "markdown",
   "id": "0b7a0da0-138f-4752-8eed-392f8082d294",
   "metadata": {},
   "source": [
    "#### Métricas de evaluación"
   ]
  },
  {
   "cell_type": "code",
   "execution_count": null,
   "id": "94c93cd6-9436-4e21-9537-9d12d8071568",
   "metadata": {},
   "outputs": [],
   "source": []
  },
  {
   "cell_type": "markdown",
   "id": "37a50e79-fbf8-4973-a75d-1ca3e3465ef5",
   "metadata": {},
   "source": [
    "## Sección 4 - Resultados"
   ]
  },
  {
   "cell_type": "markdown",
   "id": "a242831a-b502-4f3f-8316-ea5042a37458",
   "metadata": {},
   "source": [
    "Se analiza las metrica"
   ]
  },
  {
   "cell_type": "markdown",
   "id": "2b53558c-202b-4666-88f9-c8f05398f925",
   "metadata": {},
   "source": [
    "### Palabras clave"
   ]
  },
  {
   "cell_type": "markdown",
   "id": "1feee601-c1e0-4634-b0c1-501b480d3428",
   "metadata": {},
   "source": [
    "Vamos a ver las palabras que mas se repiten en cada ods"
   ]
  },
  {
   "cell_type": "markdown",
   "id": "fe60cf4b-ea0c-4530-9a99-5d81fab773e8",
   "metadata": {},
   "source": [
    "### Prediccion en el archivo"
   ]
  },
  {
   "cell_type": "markdown",
   "id": "5513dd61-0631-4900-bd02-57fdbb934dcc",
   "metadata": {},
   "source": [
    "Se hara la prediccion sobre el test"
   ]
  },
  {
   "cell_type": "markdown",
   "id": "b34281a1-1f4b-40e4-8194-365a4ecc7ec9",
   "metadata": {},
   "source": [
    "## Sección 5 - Mapa de actores"
   ]
  },
  {
   "cell_type": "markdown",
   "id": "cbf35bfc-b603-49e6-b158-0f8a1bdd9e22",
   "metadata": {},
   "source": [
    "| Rol dentro de la empresa | Tipo de actor | Beneficio | Riesgo |\n",
    "|-----------|-----------|-----------|-----------|\n",
    "| Coordinacion  | Usuario   | Apoya la labor  | Si el modelo no es bueno, entonces  |"
   ]
  },
  {
   "cell_type": "markdown",
   "id": "a53c0451-d498-428d-93e5-351838243c47",
   "metadata": {},
   "source": [
    "## Sección 6 - Trabajo en equipo"
   ]
  },
  {
   "cell_type": "markdown",
   "id": "b57e8893-58e6-4a2c-8f10-71136bc374c9",
   "metadata": {},
   "source": [
    "- Laura Carretero\n",
    "- Samuel Hernandez - Decision tree\n",
    "- Juan Rios"
   ]
  },
  {
   "cell_type": "markdown",
   "id": "d942cfd4-752f-4558-a30b-a3a015e6c04a",
   "metadata": {},
   "source": [
    "### Puntos"
   ]
  },
  {
   "cell_type": "markdown",
   "id": "5a5df4bf-b561-4310-82b0-dc692f935d4e",
   "metadata": {},
   "source": [
    "- Laura Carretero\n",
    "- Samuel Hernandez\n",
    "- Juan Rios"
   ]
  }
 ],
 "metadata": {
  "kernelspec": {
   "display_name": "Python 3 (ipykernel)",
   "language": "python",
   "name": "python3"
  },
  "language_info": {
   "codemirror_mode": {
    "name": "ipython",
    "version": 3
   },
   "file_extension": ".py",
   "mimetype": "text/x-python",
   "name": "python",
   "nbconvert_exporter": "python",
   "pygments_lexer": "ipython3",
   "version": "3.8.7"
  }
 },
 "nbformat": 4,
 "nbformat_minor": 5
}
